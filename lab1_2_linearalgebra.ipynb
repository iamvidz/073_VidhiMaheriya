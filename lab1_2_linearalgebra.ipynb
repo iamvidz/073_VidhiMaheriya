{
 "cells": [
  {
   "cell_type": "code",
   "execution_count": 2,
   "source": [
    "import numpy as np"
   ],
   "outputs": [],
   "metadata": {}
  },
  {
   "cell_type": "code",
   "execution_count": 4,
   "source": [
    "alist = [1, 2, 3, 4, 5]\r\n",
    "narray = np.array([1, 2, 3, 4])"
   ],
   "outputs": [],
   "metadata": {}
  },
  {
   "cell_type": "code",
   "execution_count": 6,
   "source": [
    "print(alist)\r\n",
    "print(narray)\r\n",
    "print(type(alist))\r\n",
    "print(type(narray))"
   ],
   "outputs": [
    {
     "output_type": "stream",
     "name": "stdout",
     "text": [
      "[1, 2, 3, 4, 5]\n",
      "[1 2 3 4]\n",
      "<class 'list'>\n",
      "<class 'numpy.ndarray'>\n"
     ]
    }
   ],
   "metadata": {}
  },
  {
   "cell_type": "code",
   "execution_count": 7,
   "source": [
    "print(narray + narray)\r\n",
    "print(alist + alist)"
   ],
   "outputs": [
    {
     "output_type": "stream",
     "name": "stdout",
     "text": [
      "[2 4 6 8]\n",
      "[1, 2, 3, 4, 5, 1, 2, 3, 4, 5]\n"
     ]
    }
   ],
   "metadata": {}
  },
  {
   "cell_type": "code",
   "execution_count": 8,
   "source": [
    "print(narray * 3)\r\n",
    "print(alist * 3)"
   ],
   "outputs": [
    {
     "output_type": "stream",
     "name": "stdout",
     "text": [
      "[ 3  6  9 12]\n",
      "[1, 2, 3, 4, 5, 1, 2, 3, 4, 5, 1, 2, 3, 4, 5]\n"
     ]
    }
   ],
   "metadata": {}
  },
  {
   "cell_type": "code",
   "execution_count": 9,
   "source": [
    "npmatrix1 = np.array([narray, narray, narray]) # Matrix initialized with NumPy arrays\r\n",
    "npmatrix2 = np.array([alist, alist, alist]) # Matrix initialized with lists\r\n",
    "npmatrix3 = np.array([narray, [1, 1, 1, 1], narray]) # Matrix initialized with both types\r\n",
    "print(npmatrix1)\r\n",
    "print(npmatrix2)\r\n",
    "print(npmatrix3)"
   ],
   "outputs": [
    {
     "output_type": "stream",
     "name": "stdout",
     "text": [
      "[[1 2 3 4]\n",
      " [1 2 3 4]\n",
      " [1 2 3 4]]\n",
      "[[1 2 3 4 5]\n",
      " [1 2 3 4 5]\n",
      " [1 2 3 4 5]]\n",
      "[[1 2 3 4]\n",
      " [1 1 1 1]\n",
      " [1 2 3 4]]\n"
     ]
    }
   ],
   "metadata": {}
  },
  {
   "cell_type": "code",
   "execution_count": 10,
   "source": [
    "okmatrix = np.array([[1, 2], [3, 4]])\r\n",
    "print(okmatrix)\r\n",
    "print(okmatrix * 2)"
   ],
   "outputs": [
    {
     "output_type": "stream",
     "name": "stdout",
     "text": [
      "[[1 2]\n",
      " [3 4]]\n",
      "[[2 4]\n",
      " [6 8]]\n"
     ]
    }
   ],
   "metadata": {}
  },
  {
   "cell_type": "code",
   "execution_count": 11,
   "source": [
    "badmatrix = np.array([[1, 2], [3, 4], [5, 6, 7]])\r\n",
    "print(badmatrix)\r\n",
    "print(badmatrix * 2)"
   ],
   "outputs": [
    {
     "output_type": "stream",
     "name": "stdout",
     "text": [
      "[list([1, 2]) list([3, 4]) list([5, 6, 7])]\n",
      "[list([1, 2, 1, 2]) list([3, 4, 3, 4]) list([5, 6, 7, 5, 6, 7])]\n"
     ]
    },
    {
     "output_type": "stream",
     "name": "stderr",
     "text": [
      "C:\\Users\\dell\\AppData\\Local\\Temp/ipykernel_13932/2051504424.py:1: VisibleDeprecationWarning: Creating an ndarray from ragged nested sequences (which is a list-or-tuple of lists-or-tuples-or ndarrays with different lengths or shapes) is deprecated. If you meant to do this, you must specify 'dtype=object' when creating the ndarray.\n",
      "  badmatrix = np.array([[1, 2], [3, 4], [5, 6, 7]])\n"
     ]
    }
   ],
   "metadata": {}
  },
  {
   "cell_type": "code",
   "execution_count": 12,
   "source": [
    "result = okmatrix * 2 + 1\r\n",
    "print(result)"
   ],
   "outputs": [
    {
     "output_type": "stream",
     "name": "stdout",
     "text": [
      "[[3 5]\n",
      " [7 9]]\n"
     ]
    }
   ],
   "metadata": {}
  },
  {
   "cell_type": "code",
   "execution_count": 13,
   "source": [
    "result1 = okmatrix + okmatrix\r\n",
    "print(result1)\r\n",
    "result2 = okmatrix - okmatrix\r\n",
    "print(result2)"
   ],
   "outputs": [
    {
     "output_type": "stream",
     "name": "stdout",
     "text": [
      "[[2 4]\n",
      " [6 8]]\n",
      "[[0 0]\n",
      " [0 0]]\n"
     ]
    }
   ],
   "metadata": {}
  },
  {
   "cell_type": "code",
   "execution_count": 14,
   "source": [
    "result = okmatrix * okmatrix\r\n",
    "print(result)"
   ],
   "outputs": [
    {
     "output_type": "stream",
     "name": "stdout",
     "text": [
      "[[ 1  4]\n",
      " [ 9 16]]\n"
     ]
    }
   ],
   "metadata": {}
  },
  {
   "cell_type": "code",
   "execution_count": 15,
   "source": [
    "matrix3x2 = np.array([[1, 2], [3, 4], [5, 6]])\r\n",
    "print('Original matrix 3 x 2')\r\n",
    "print(matrix3x2)\r\n",
    "print('Transposed matrix 2 x 3')\r\n",
    "print(matrix3x2.T)"
   ],
   "outputs": [
    {
     "output_type": "stream",
     "name": "stdout",
     "text": [
      "Original matrix 3 x 2\n",
      "[[1 2]\n",
      " [3 4]\n",
      " [5 6]]\n",
      "Transposed matrix 2 x 3\n",
      "[[1 3 5]\n",
      " [2 4 6]]\n"
     ]
    }
   ],
   "metadata": {}
  },
  {
   "cell_type": "code",
   "execution_count": 16,
   "source": [
    "nparray = np.array([1, 2, 3, 4]) # Define an array\r\n",
    "print('Original array')\r\n",
    "print(nparray)\r\n",
    "print('Transposed array')\r\n",
    "print(nparray.T)"
   ],
   "outputs": [
    {
     "output_type": "stream",
     "name": "stdout",
     "text": [
      "Original array\n",
      "[1 2 3 4]\n",
      "Transposed array\n",
      "[1 2 3 4]\n"
     ]
    }
   ],
   "metadata": {}
  },
  {
   "cell_type": "code",
   "execution_count": 17,
   "source": [
    "nparray = np.array([[1, 2, 3, 4]])\r\n",
    "print('Original array')\r\n",
    "print(nparray)\r\n",
    "print('Transposed array')\r\n",
    "print(nparray.T)"
   ],
   "outputs": [
    {
     "output_type": "stream",
     "name": "stdout",
     "text": [
      "Original array\n",
      "[[1 2 3 4]]\n",
      "Transposed array\n",
      "[[1]\n",
      " [2]\n",
      " [3]\n",
      " [4]]\n"
     ]
    }
   ],
   "metadata": {}
  },
  {
   "cell_type": "code",
   "execution_count": 18,
   "source": [
    "nparray1 = np.array([1, 2, 3, 4])\r\n",
    "norm1 = np.linalg.norm(nparray1)\r\n",
    "nparray2 = np.array([[1, 2], [3, 4]])\r\n",
    "norm2 = np.linalg.norm(nparray2)\r\n",
    "print(norm1)\r\n",
    "print(norm2)"
   ],
   "outputs": [
    {
     "output_type": "stream",
     "name": "stdout",
     "text": [
      "5.477225575051661\n",
      "5.477225575051661\n"
     ]
    }
   ],
   "metadata": {}
  },
  {
   "cell_type": "code",
   "execution_count": 19,
   "source": [
    "nparray2 = np.array([[1, 1], [2, 2], [3, 3]])\r\n",
    "normByCols = np.linalg.norm(nparray2, axis=0)\r\n",
    "normByRows = np.linalg.norm(nparray2, axis=1)\r\n",
    "print(normByCols)\r\n",
    "print(normByRows)"
   ],
   "outputs": [
    {
     "output_type": "stream",
     "name": "stdout",
     "text": [
      "[3.74165739 3.74165739]\n",
      "[1.41421356 2.82842712 4.24264069]\n"
     ]
    }
   ],
   "metadata": {}
  },
  {
   "cell_type": "code",
   "execution_count": 21,
   "source": [
    "nparray1 = np.array([0, 1, 2, 3]) # Define an array\r\n",
    "nparray2 = np.array([4, 5, 6, 7]) # Define an array\r\n",
    "flavor1 = np.dot(nparray1, nparray2) # Way-1\r\n",
    "print(flavor1)\r\n",
    "flavor2 = np.sum(nparray1 * nparray2) # Way-2\r\n",
    "print(flavor2)\r\n",
    "flavor3 = nparray1 @ nparray2 # Way-3\r\n",
    "print(flavor3)\r\n",
    "# As you never should do: #Way-4\r\n",
    "flavor4 = 0\r\n",
    "for a, b in zip(nparray1, nparray2):\r\n",
    "    flavor4 += a * b\r\n",
    "print(flavor4)"
   ],
   "outputs": [
    {
     "output_type": "stream",
     "name": "stdout",
     "text": [
      "38\n",
      "38\n",
      "38\n",
      "38\n"
     ]
    }
   ],
   "metadata": {}
  },
  {
   "cell_type": "code",
   "execution_count": 22,
   "source": [
    "norm1 = np.dot(np.array([1, 2]), np.array([3, 4]))\r\n",
    "norm2 = np.dot([1, 2], [3, 4])\r\n",
    "print(norm1, '=', norm2 )"
   ],
   "outputs": [
    {
     "output_type": "stream",
     "name": "stdout",
     "text": [
      "11 = 11\n"
     ]
    }
   ],
   "metadata": {}
  },
  {
   "cell_type": "code",
   "execution_count": 23,
   "source": [
    "nparray2 = np.array([[1, -1], [2, -2], [3, -3]])\r\n",
    "sumByCols = np.sum(nparray2, axis=0)\r\n",
    "sumByRows = np.sum(nparray2, axis=1) \r\n",
    "print('Sum by columns: ')\r\n",
    "print(sumByCols)\r\n",
    "print('Sum by rows:')\r\n",
    "print(sumByRows)"
   ],
   "outputs": [
    {
     "output_type": "stream",
     "name": "stdout",
     "text": [
      "Sum by columns: \n",
      "[ 6 -6]\n",
      "Sum by rows:\n",
      "[0 0 0]\n"
     ]
    }
   ],
   "metadata": {}
  },
  {
   "cell_type": "code",
   "execution_count": 24,
   "source": [
    "nparray2 = np.array([[1, -1], [2, -2], [3, -3]])\r\n",
    "mean = np.mean(nparray2)\r\n",
    "meanByCols = np.mean(nparray2, axis=0)\r\n",
    "meanByRows = np.mean(nparray2, axis=1)\r\n",
    "\r\n",
    "print('Matrix mean: ')\r\n",
    "print(mean)\r\n",
    "print('Mean by columns: ')\r\n",
    "print(meanByCols)\r\n",
    "print('Mean by rows:')\r\n",
    "print(meanByRows)"
   ],
   "outputs": [
    {
     "output_type": "stream",
     "name": "stdout",
     "text": [
      "Matrix mean: \n",
      "0.0\n",
      "Mean by columns: \n",
      "[ 2. -2.]\n",
      "Mean by rows:\n",
      "[0. 0. 0.]\n"
     ]
    }
   ],
   "metadata": {}
  },
  {
   "cell_type": "code",
   "execution_count": 25,
   "source": [
    "nparray2 = np.array([[1, 1], [2, 2], [3, 3]])\r\n",
    "nparrayCentered = nparray2 - np.mean(nparray2, axis=0)\r\n",
    "\r\n",
    "print('Original matrix')\r\n",
    "print(nparray2)\r\n",
    "print('Centered by columns matrix')\r\n",
    "print(nparrayCentered)\r\n",
    "print('New mean by column')\r\n",
    "print(nparrayCentered.mean(axis=0))"
   ],
   "outputs": [
    {
     "output_type": "stream",
     "name": "stdout",
     "text": [
      "Original matrix\n",
      "[[1 1]\n",
      " [2 2]\n",
      " [3 3]]\n",
      "Centered by columns matrix\n",
      "[[-1. -1.]\n",
      " [ 0.  0.]\n",
      " [ 1.  1.]]\n",
      "New mean by column\n",
      "[0. 0.]\n"
     ]
    }
   ],
   "metadata": {}
  },
  {
   "cell_type": "code",
   "execution_count": 26,
   "source": [
    "nparray2 = np.array([[1, 3], [2, 4], [3, 5]])\r\n",
    "nparrayCentered = nparray2.T - np.mean(nparray2, axis=1) # Remove the mean for each row\r\n",
    "nparrayCentered = nparrayCentered.T # Transpose back the result\r\n",
    "\r\n",
    "print('Original matrix')\r\n",
    "print(nparray2)\r\n",
    "print('Centered by columns matrix')\r\n",
    "print(nparrayCentered)\r\n",
    "print('New mean by rows')\r\n",
    "print(nparrayCentered.mean(axis=1))"
   ],
   "outputs": [
    {
     "output_type": "stream",
     "name": "stdout",
     "text": [
      "Original matrix\n",
      "[[1 3]\n",
      " [2 4]\n",
      " [3 5]]\n",
      "Centered by columns matrix\n",
      "[[-1.  1.]\n",
      " [-1.  1.]\n",
      " [-1.  1.]]\n",
      "New mean by rows\n",
      "[0. 0. 0.]\n"
     ]
    }
   ],
   "metadata": {}
  },
  {
   "cell_type": "code",
   "execution_count": null,
   "source": [],
   "outputs": [],
   "metadata": {}
  },
  {
   "cell_type": "code",
   "execution_count": null,
   "source": [],
   "outputs": [],
   "metadata": {}
  }
 ],
 "metadata": {
  "orig_nbformat": 4,
  "language_info": {
   "name": "python",
   "version": "3.8.1",
   "mimetype": "text/x-python",
   "codemirror_mode": {
    "name": "ipython",
    "version": 3
   },
   "pygments_lexer": "ipython3",
   "nbconvert_exporter": "python",
   "file_extension": ".py"
  },
  "kernelspec": {
   "name": "python3",
   "display_name": "Python 3.8.1 32-bit"
  },
  "interpreter": {
   "hash": "030e69f39d65acb33ad14d6b96256331a6cc0e9adc984be61bf01f8dd130d225"
  }
 },
 "nbformat": 4,
 "nbformat_minor": 2
}