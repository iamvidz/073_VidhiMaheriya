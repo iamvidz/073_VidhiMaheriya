{
  "nbformat": 4,
  "nbformat_minor": 0,
  "metadata": {
    "colab": {
      "name": "lab3_predict_play.ipynb",
      "provenance": []
    },
    "kernelspec": {
      "name": "python3",
      "display_name": "Python 3"
    },
    "language_info": {
      "name": "python"
    }
  },
  "cells": [
    {
      "cell_type": "code",
      "metadata": {
        "colab": {
          "base_uri": "https://localhost:8080/"
        },
        "id": "VOmXKF51XsOA",
        "outputId": "aeeae31e-4d0d-4179-f237-0f9629e3535b"
      },
      "source": [
        "from google.colab import drive\n",
        "drive.mount(\"/content/drive\")\n",
        "\n",
        "import numpy as np\n",
        "import pandas as pd\n",
        "import matplotlib.pyplot as plt\n",
        "from sklearn import datasets, preprocessing\n",
        "from sklearn.naive_bayes import GaussianNB, MultinomialNB"
      ],
      "execution_count": 1,
      "outputs": [
        {
          "output_type": "stream",
          "text": [
            "Mounted at /content/drive\n"
          ],
          "name": "stdout"
        }
      ]
    },
    {
      "cell_type": "code",
      "metadata": {
        "id": "n-6B8kpGZEmx"
      },
      "source": [
        "dataset = pd.read_csv(\"/content/drive/MyDrive/PracticeDataSets/Dataset1.csv\")"
      ],
      "execution_count": 2,
      "outputs": []
    },
    {
      "cell_type": "code",
      "metadata": {
        "colab": {
          "base_uri": "https://localhost:8080/"
        },
        "id": "luxFZ0v-ZtXZ",
        "outputId": "c5658f70-93d9-4f42-c7a9-2b99c1069ac8"
      },
      "source": [
        "# labelEncoder Object\n",
        "label_encoder = preprocessing.LabelEncoder()\n",
        "Y_rows=None\n",
        "for data_heading in dataset:\n",
        "  if data_heading!=\"Play\":\n",
        "    print(f\"\\n\\nHeading :- {data_heading}\")\n",
        "    #print(list(dataset[data_heading]))\n",
        "    dummy = pd.get_dummies(dataset[data_heading])\n",
        "    #print(\"\\n\\nDummy :\\n\",dummy)\n",
        "    dataset = dataset.drop([data_heading],axis=1)\n",
        "    dataset = pd.concat([dataset,dummy],axis=1)\n",
        "    #print(\"\\n\\nFinal Data :\\n\",dataset)\n",
        "  else:\n",
        "    Y_rows = label_encoder.fit_transform(dataset[data_heading])\n",
        "    dataset = dataset.drop([data_heading],axis=1)"
      ],
      "execution_count": 3,
      "outputs": [
        {
          "output_type": "stream",
          "text": [
            "\n",
            "\n",
            "Heading :- Outlook\n",
            "\n",
            "\n",
            "Heading :- Temp\n",
            "\n",
            "\n",
            "Heading :- Humidity\n",
            "\n",
            "\n",
            "Heading :- Wind\n"
          ],
          "name": "stdout"
        }
      ]
    },
    {
      "cell_type": "code",
      "metadata": {
        "colab": {
          "base_uri": "https://localhost:8080/"
        },
        "id": "y_oBE59AZzyp",
        "outputId": "bb5c40bf-db2b-4f80-dd74-f44f430aa143"
      },
      "source": [
        "print(dataset,Y_rows)"
      ],
      "execution_count": 4,
      "outputs": [
        {
          "output_type": "stream",
          "text": [
            "    O  R  S  C  H  M  High  Low  Normal  F  T\n",
            "0   0  1  0  0  1  0     0    0       1  1  0\n",
            "1   0  1  0  0  1  0     1    0       0  0  1\n",
            "2   1  0  0  0  1  0     0    0       1  1  0\n",
            "3   0  0  1  0  0  1     0    0       1  1  0\n",
            "4   0  0  1  1  0  0     0    0       1  1  0\n",
            "5   0  0  1  1  0  0     0    1       0  0  1\n",
            "6   1  0  0  1  0  0     0    0       1  0  1\n",
            "7   0  1  0  0  0  1     0    0       1  1  0\n",
            "8   0  1  0  1  0  0     0    1       0  1  0\n",
            "9   0  0  1  0  0  1     1    0       0  1  0\n",
            "10  0  1  0  0  0  1     1    0       0  0  1\n",
            "11  1  0  0  0  0  1     0    1       0  0  1\n",
            "12  1  0  0  0  1  0     0    0       1  1  0\n",
            "13  0  0  1  0  0  1     0    0       1  0  1 [0 0 1 1 1 0 1 0 1 1 1 1 1 0]\n"
          ],
          "name": "stdout"
        }
      ]
    },
    {
      "cell_type": "code",
      "metadata": {
        "id": "z0w9I0lgZ29I"
      },
      "source": [
        "from sklearn.model_selection import train_test_split\n",
        "\n",
        "X_train, X_test, Y_train, Y_test = train_test_split(dataset, Y_rows, test_size = 0.30, random_state = 54)"
      ],
      "execution_count": 5,
      "outputs": []
    },
    {
      "cell_type": "code",
      "metadata": {
        "colab": {
          "base_uri": "https://localhost:8080/"
        },
        "id": "NNNSKLwGZ6Xs",
        "outputId": "129c6ea6-e21a-44ff-8d08-7aaa9b025ef0"
      },
      "source": [
        "# create model\n",
        "model = MultinomialNB()\n",
        "model.fit(X_train, Y_train)\n",
        "\n",
        "# Predict Y from X_text\n",
        "Y_predicted = model.predict(X_test)\n",
        "print(X_test)\n",
        "print(Y_predicted)"
      ],
      "execution_count": 6,
      "outputs": [
        {
          "output_type": "stream",
          "text": [
            "    O  R  S  C  H  M  High  Low  Normal  F  T\n",
            "4   0  0  1  1  0  0     0    0       1  1  0\n",
            "12  1  0  0  0  1  0     0    0       1  1  0\n",
            "9   0  0  1  0  0  1     1    0       0  1  0\n",
            "3   0  0  1  0  0  1     0    0       1  1  0\n",
            "13  0  0  1  0  0  1     0    0       1  0  1\n",
            "[0 1 0 0 0]\n"
          ],
          "name": "stdout"
        }
      ]
    },
    {
      "cell_type": "code",
      "metadata": {
        "colab": {
          "base_uri": "https://localhost:8080/"
        },
        "id": "dEcntX6SZ9Ut",
        "outputId": "3f79f873-b190-4cdb-bbd9-32d15a1208d3"
      },
      "source": [
        "from sklearn import metrics\n",
        "\n",
        "print(f\"Accuracy is :- {metrics.accuracy_score(Y_test, Y_predicted)}\")\n",
        "\n",
        "# print precision and recall\n",
        "from sklearn.metrics import precision_score\n",
        "from sklearn.metrics import recall_score\n",
        "\n",
        "\n",
        "precision = precision_score(Y_test, Y_predicted)\n",
        "recall = recall_score(Y_test, Y_predicted)\n",
        "\n",
        "\n",
        "print(f\"precision :- {precision}\")\n",
        "print(f\"recall :- {recall}\")"
      ],
      "execution_count": 7,
      "outputs": [
        {
          "output_type": "stream",
          "text": [
            "Accuracy is :- 0.4\n",
            "precision :- 1.0\n",
            "recall :- 0.25\n"
          ],
          "name": "stdout"
        }
      ]
    },
    {
      "cell_type": "code",
      "metadata": {
        "colab": {
          "base_uri": "https://localhost:8080/"
        },
        "id": "21HwgVk5aAev",
        "outputId": "23fb226a-2a5b-4a50-de99-1a394e8bbd52"
      },
      "source": [
        "# Task1\n",
        "\n",
        "# Temp = \"Hot\" and Weather = \"overcast\"\n",
        "#              1  1  0\n",
        "#Outlook(O,R,S)=0  1  0,\tTemp(C,H,M)=0  1  0,\tHumidity(High,Low,Normal)=0  0 1,\tWind(F,T)=1,0,\tPlay=0\n",
        "output = model.predict([[0,1,0, 0,1,0  ,0,0,1 ,1,0]])\n",
        "print(f\"final prediction :- {output}\")\n",
        "\n",
        "#Overcast , High, Normal, False\n",
        "output = model.predict([[1,0,0  ,0,1,0    ,0,0,1  ,1,0]])\n",
        "print(f\"final prediction :- {output}\")\n",
        "\n",
        "# Excersice\n",
        "# Task1\n",
        "\n",
        "# Overcast, Mild, Normal, True\n",
        "\n",
        "output = model.predict([[1,0,0, 0,0,1 ,0,0,1  ,0,1]])\n",
        "print(f\"final prediction :- {output}\")"
      ],
      "execution_count": 8,
      "outputs": [
        {
          "output_type": "stream",
          "text": [
            "final prediction :- [0]\n",
            "final prediction :- [1]\n",
            "final prediction :- [1]\n"
          ],
          "name": "stdout"
        }
      ]
    },
    {
      "cell_type": "code",
      "metadata": {
        "id": "tTefiQbtaEwH"
      },
      "source": [
        ""
      ],
      "execution_count": null,
      "outputs": []
    }
  ]
}