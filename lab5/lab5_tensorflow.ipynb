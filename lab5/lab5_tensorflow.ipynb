{
  "nbformat": 4,
  "nbformat_minor": 0,
  "metadata": {
    "colab": {
      "name": "lab5_tensorflow.ipynb",
      "provenance": []
    },
    "kernelspec": {
      "name": "python3",
      "display_name": "Python 3"
    },
    "language_info": {
      "name": "python"
    }
  },
  "cells": [
    {
      "cell_type": "code",
      "metadata": {
        "id": "FWu1qwl_4z0o"
      },
      "source": [
        "import numpy as np\n",
        "import pandas as pd \n",
        "import matplotlib.pyplot as plt\n",
        "%matplotlib inline\n",
        "import tensorflow as tf"
      ],
      "execution_count": 1,
      "outputs": []
    },
    {
      "cell_type": "code",
      "metadata": {
        "colab": {
          "base_uri": "https://localhost:8080/"
        },
        "id": "ljaDrAKh41aN",
        "outputId": "e491b38d-297d-401c-bb38-83269c3ccc03"
      },
      "source": [
        "# Use seaborn for pairplot\n",
        "import seaborn as sns\n",
        "\n",
        "from tensorflow import keras\n",
        "from tensorflow.keras import layers\n",
        "from tensorflow.keras.layers.experimental import preprocessing\n",
        "\n",
        "print(tf.__version__)"
      ],
      "execution_count": 2,
      "outputs": [
        {
          "output_type": "stream",
          "name": "stdout",
          "text": [
            "2.6.0\n"
          ]
        }
      ]
    },
    {
      "cell_type": "code",
      "metadata": {
        "id": "3SGqEOmT463j"
      },
      "source": [
        "# Input (temp, rainfall, humidity)\n",
        "inputs = np.array([[73, 67, 43], [91, 88, 64], [87, 134, 58], [102, 43, 37], [69, 96, 70], [73, 67, 43], [91, 88, 64], [87, 134, 58], [102, 43, 37], [69, 96, 70], [73, 67, 43], [91, 88, 64], [87, 134, 58], [102, 43, 37], [69, 96, 70]], dtype='float32')\n",
        "# Targets (apples)\n",
        "targets = np.array([[56], [81], [119], [22], [103], \n",
        "                    [56], [81], [119], [22], [103], \n",
        "                    [56], [81], [119], [22], [103]], dtype='float32')"
      ],
      "execution_count": 3,
      "outputs": []
    },
    {
      "cell_type": "code",
      "metadata": {
        "id": "7-dVsWqj6qAZ"
      },
      "source": [
        "df_inputs = pd.DataFrame(inputs, columns = ['temp','rainfall','humidity'])\n",
        "features = df_inputs.copy()\n",
        "train_features = features[:10]\n",
        "test_features = features[10:] \n",
        "\n",
        "df_targets = pd.DataFrame(targets, columns = ['apples'])\n",
        "label = df_targets.copy()\n",
        "train_label =  label[:10]\n",
        "test_label = label[10:]"
      ],
      "execution_count": 4,
      "outputs": []
    },
    {
      "cell_type": "code",
      "metadata": {
        "colab": {
          "base_uri": "https://localhost:8080/"
        },
        "id": "_BFskzFb6sx4",
        "outputId": "464d4584-f3f7-408d-d269-43311d442b1d"
      },
      "source": [
        "#print(train_data)\n",
        "print(train_features)\n",
        "print(train_label)"
      ],
      "execution_count": 6,
      "outputs": [
        {
          "output_type": "stream",
          "name": "stdout",
          "text": [
            "    temp  rainfall  humidity\n",
            "0   73.0      67.0      43.0\n",
            "1   91.0      88.0      64.0\n",
            "2   87.0     134.0      58.0\n",
            "3  102.0      43.0      37.0\n",
            "4   69.0      96.0      70.0\n",
            "5   73.0      67.0      43.0\n",
            "6   91.0      88.0      64.0\n",
            "7   87.0     134.0      58.0\n",
            "8  102.0      43.0      37.0\n",
            "9   69.0      96.0      70.0\n",
            "   apples\n",
            "0    56.0\n",
            "1    81.0\n",
            "2   119.0\n",
            "3    22.0\n",
            "4   103.0\n",
            "5    56.0\n",
            "6    81.0\n",
            "7   119.0\n",
            "8    22.0\n",
            "9   103.0\n"
          ]
        }
      ]
    },
    {
      "cell_type": "code",
      "metadata": {
        "colab": {
          "base_uri": "https://localhost:8080/",
          "height": 142
        },
        "id": "qLAEasvG633H",
        "outputId": "ba915b97-ae5b-40c5-863f-7fedae8752c3"
      },
      "source": [
        "train_features.describe().transpose()[['mean', 'std']]"
      ],
      "execution_count": 7,
      "outputs": [
        {
          "output_type": "execute_result",
          "data": {
            "text/html": [
              "<div>\n",
              "<style scoped>\n",
              "    .dataframe tbody tr th:only-of-type {\n",
              "        vertical-align: middle;\n",
              "    }\n",
              "\n",
              "    .dataframe tbody tr th {\n",
              "        vertical-align: top;\n",
              "    }\n",
              "\n",
              "    .dataframe thead th {\n",
              "        text-align: right;\n",
              "    }\n",
              "</style>\n",
              "<table border=\"1\" class=\"dataframe\">\n",
              "  <thead>\n",
              "    <tr style=\"text-align: right;\">\n",
              "      <th></th>\n",
              "      <th>mean</th>\n",
              "      <th>std</th>\n",
              "    </tr>\n",
              "  </thead>\n",
              "  <tbody>\n",
              "    <tr>\n",
              "      <th>temp</th>\n",
              "      <td>84.400002</td>\n",
              "      <td>12.712199</td>\n",
              "    </tr>\n",
              "    <tr>\n",
              "      <th>rainfall</th>\n",
              "      <td>85.599998</td>\n",
              "      <td>32.031929</td>\n",
              "    </tr>\n",
              "    <tr>\n",
              "      <th>humidity</th>\n",
              "      <td>54.400002</td>\n",
              "      <td>13.175735</td>\n",
              "    </tr>\n",
              "  </tbody>\n",
              "</table>\n",
              "</div>"
            ],
            "text/plain": [
              "               mean        std\n",
              "temp      84.400002  12.712199\n",
              "rainfall  85.599998  32.031929\n",
              "humidity  54.400002  13.175735"
            ]
          },
          "metadata": {},
          "execution_count": 7
        }
      ]
    },
    {
      "cell_type": "code",
      "metadata": {
        "colab": {
          "base_uri": "https://localhost:8080/",
          "height": 567
        },
        "id": "2lriSuP068BT",
        "outputId": "b07e040b-ed78-4fc6-cefc-27450aa269f0"
      },
      "source": [
        "sns.pairplot(train_features[['temp', 'rainfall', 'humidity']], diag_kind='kde')"
      ],
      "execution_count": 8,
      "outputs": [
        {
          "output_type": "execute_result",
          "data": {
            "text/plain": [
              "<seaborn.axisgrid.PairGrid at 0x7fda400884d0>"
            ]
          },
          "metadata": {},
          "execution_count": 8
        },
        {
          "output_type": "display_data",
          "data": {
            "image/png": "[encoded data removed]",
            "text/plain": [
              "<Figure size 540x540 with 12 Axes>"
            ]
          },
          "metadata": {
            "needs_background": "light"
          }
        }
      ]
    },
    {
      "cell_type": "code",
      "metadata": {
        "id": "3v5HL-FJ6-XB"
      },
      "source": [
        "# with one variable input \"Temp\"\n",
        "from sklearn.preprocessing import Normalizer\n",
        "import sklearn.preprocessing\n",
        "\n",
        "temp = np.array(train_features['temp'])\n",
        "\n",
        "temp_normalizer = preprocessing.Normalization(input_shape=[1, ], axis = None)\n",
        "temp_normalizer.adapt(temp)"
      ],
      "execution_count": 9,
      "outputs": []
    },
    {
      "cell_type": "code",
      "metadata": {
        "id": "Jmb9UN3J9swa"
      },
      "source": [
        "temp_linear_model = tf.keras.Sequential([\n",
        "    temp_normalizer,\n",
        "    layers.Dense(units=1)           \n",
        "])"
      ],
      "execution_count": 10,
      "outputs": []
    },
    {
      "cell_type": "code",
      "metadata": {
        "colab": {
          "base_uri": "https://localhost:8080/"
        },
        "id": "WpJCnpvz9u6R",
        "outputId": "329f1f0f-3fe4-4826-b4fd-bf5103ba36b3"
      },
      "source": [
        "temp_linear_model.summary()"
      ],
      "execution_count": 11,
      "outputs": [
        {
          "output_type": "stream",
          "name": "stdout",
          "text": [
            "Model: \"sequential\"\n",
            "_________________________________________________________________\n",
            "Layer (type)                 Output Shape              Param #   \n",
            "=================================================================\n",
            "normalization (Normalization (None, 1)                 3         \n",
            "_________________________________________________________________\n",
            "dense (Dense)                (None, 1)                 2         \n",
            "=================================================================\n",
            "Total params: 5\n",
            "Trainable params: 2\n",
            "Non-trainable params: 3\n",
            "_________________________________________________________________\n"
          ]
        }
      ]
    },
    {
      "cell_type": "code",
      "metadata": {
        "colab": {
          "base_uri": "https://localhost:8080/"
        },
        "id": "G7DKRjvx9w8Q",
        "outputId": "f631b4f3-bdc7-41bb-a919-fd7ce3aa75f5"
      },
      "source": [
        "temp_linear_model.predict(temp[1:6])"
      ],
      "execution_count": 12,
      "outputs": [
        {
          "output_type": "execute_result",
          "data": {
            "text/plain": [
              "array([[ 0.7549565],\n",
              "       [ 0.297407 ],\n",
              "       [ 2.0132177],\n",
              "       [-1.7615658],\n",
              "       [-1.3040162]], dtype=float32)"
            ]
          },
          "metadata": {},
          "execution_count": 12
        }
      ]
    },
    {
      "cell_type": "code",
      "metadata": {
        "id": "DLTYAZgs9zZ-"
      },
      "source": [
        "temp_linear_model.compile(\n",
        "    optimizer = tf.optimizers.Adam(learning_rate = 0.1),\n",
        "    loss='mean_absolute_error')"
      ],
      "execution_count": 13,
      "outputs": []
    },
    {
      "cell_type": "code",
      "metadata": {
        "colab": {
          "base_uri": "https://localhost:8080/"
        },
        "id": "rFrqFhDx91ou",
        "outputId": "7734e2da-178c-4f3e-9587-9a15775bd2b8"
      },
      "source": [
        "%%time\n",
        "history = temp_linear_model.fit(\n",
        "    train_features['temp'], train_label,\n",
        "    epochs = 1000,\n",
        "    # suppress logging\n",
        "    verbose = 0,\n",
        "    # Calculate validation results on 10% of the training data\n",
        "    validation_split = 0.3)"
      ],
      "execution_count": 14,
      "outputs": [
        {
          "output_type": "stream",
          "name": "stdout",
          "text": [
            "CPU times: user 17.2 s, sys: 768 ms, total: 17.9 s\n",
            "Wall time: 17.3 s\n"
          ]
        }
      ]
    },
    {
      "cell_type": "code",
      "metadata": {
        "colab": {
          "base_uri": "https://localhost:8080/",
          "height": 357
        },
        "id": "CzAbty9p93wJ",
        "outputId": "64a37639-62f6-4044-b224-7b88c44e8520"
      },
      "source": [
        "hist = pd.DataFrame(history.history)\n",
        "hist['epoch'] = history.epoch\n",
        "hist.tail(10)"
      ],
      "execution_count": 15,
      "outputs": [
        {
          "output_type": "execute_result",
          "data": {
            "text/html": [
              "<div>\n",
              "<style scoped>\n",
              "    .dataframe tbody tr th:only-of-type {\n",
              "        vertical-align: middle;\n",
              "    }\n",
              "\n",
              "    .dataframe tbody tr th {\n",
              "        vertical-align: top;\n",
              "    }\n",
              "\n",
              "    .dataframe thead th {\n",
              "        text-align: right;\n",
              "    }\n",
              "</style>\n",
              "<table border=\"1\" class=\"dataframe\">\n",
              "  <thead>\n",
              "    <tr style=\"text-align: right;\">\n",
              "      <th></th>\n",
              "      <th>loss</th>\n",
              "      <th>val_loss</th>\n",
              "      <th>epoch</th>\n",
              "    </tr>\n",
              "  </thead>\n",
              "  <tbody>\n",
              "    <tr>\n",
              "      <th>990</th>\n",
              "      <td>27.707804</td>\n",
              "      <td>47.946472</td>\n",
              "      <td>990</td>\n",
              "    </tr>\n",
              "    <tr>\n",
              "      <th>991</th>\n",
              "      <td>27.701771</td>\n",
              "      <td>47.959995</td>\n",
              "      <td>991</td>\n",
              "    </tr>\n",
              "    <tr>\n",
              "      <th>992</th>\n",
              "      <td>27.695688</td>\n",
              "      <td>47.975082</td>\n",
              "      <td>992</td>\n",
              "    </tr>\n",
              "    <tr>\n",
              "      <th>993</th>\n",
              "      <td>27.689550</td>\n",
              "      <td>47.991581</td>\n",
              "      <td>993</td>\n",
              "    </tr>\n",
              "    <tr>\n",
              "      <th>994</th>\n",
              "      <td>27.683374</td>\n",
              "      <td>48.009354</td>\n",
              "      <td>994</td>\n",
              "    </tr>\n",
              "    <tr>\n",
              "      <th>995</th>\n",
              "      <td>27.677155</td>\n",
              "      <td>48.028278</td>\n",
              "      <td>995</td>\n",
              "    </tr>\n",
              "    <tr>\n",
              "      <th>996</th>\n",
              "      <td>27.670898</td>\n",
              "      <td>48.048237</td>\n",
              "      <td>996</td>\n",
              "    </tr>\n",
              "    <tr>\n",
              "      <th>997</th>\n",
              "      <td>27.664606</td>\n",
              "      <td>48.069134</td>\n",
              "      <td>997</td>\n",
              "    </tr>\n",
              "    <tr>\n",
              "      <th>998</th>\n",
              "      <td>27.658281</td>\n",
              "      <td>48.090866</td>\n",
              "      <td>998</td>\n",
              "    </tr>\n",
              "    <tr>\n",
              "      <th>999</th>\n",
              "      <td>27.651932</td>\n",
              "      <td>48.113361</td>\n",
              "      <td>999</td>\n",
              "    </tr>\n",
              "  </tbody>\n",
              "</table>\n",
              "</div>"
            ],
            "text/plain": [
              "          loss   val_loss  epoch\n",
              "990  27.707804  47.946472    990\n",
              "991  27.701771  47.959995    991\n",
              "992  27.695688  47.975082    992\n",
              "993  27.689550  47.991581    993\n",
              "994  27.683374  48.009354    994\n",
              "995  27.677155  48.028278    995\n",
              "996  27.670898  48.048237    996\n",
              "997  27.664606  48.069134    997\n",
              "998  27.658281  48.090866    998\n",
              "999  27.651932  48.113361    999"
            ]
          },
          "metadata": {},
          "execution_count": 15
        }
      ]
    },
    {
      "cell_type": "code",
      "metadata": {
        "id": "FAKzZQkt9-tn"
      },
      "source": [
        "test_results = {}\n",
        "\n",
        "test_results['temp_linear_model'] = temp_linear_model.evaluate(\n",
        "    test_features['temp'],\n",
        "    test_label, verbose=0)"
      ],
      "execution_count": 16,
      "outputs": []
    },
    {
      "cell_type": "code",
      "metadata": {
        "colab": {
          "base_uri": "https://localhost:8080/"
        },
        "id": "EeyO86SH-BZP",
        "outputId": "395b4872-c3d4-4c95-e01c-246a6eab36c3"
      },
      "source": [
        "test_results['temp_linear_model']"
      ],
      "execution_count": 17,
      "outputs": [
        {
          "output_type": "execute_result",
          "data": {
            "text/plain": [
              "33.78589630126953"
            ]
          },
          "metadata": {},
          "execution_count": 17
        }
      ]
    },
    {
      "cell_type": "code",
      "metadata": {
        "colab": {
          "base_uri": "https://localhost:8080/"
        },
        "id": "NBW5wF-O-DPe",
        "outputId": "9b0b44dc-f9ae-4e95-e1d1-32034a1d6c16"
      },
      "source": [
        "y = temp_linear_model.predict(test_features['temp'])\n",
        "y"
      ],
      "execution_count": 18,
      "outputs": [
        {
          "output_type": "execute_result",
          "data": {
            "text/plain": [
              "array([[56.09332 ],\n",
              "       [56.503925],\n",
              "       [56.41268 ],\n",
              "       [56.754852],\n",
              "       [56.002075]], dtype=float32)"
            ]
          },
          "metadata": {},
          "execution_count": 18
        }
      ]
    },
    {
      "cell_type": "code",
      "metadata": {
        "colab": {
          "base_uri": "https://localhost:8080/"
        },
        "id": "sOrOfVS4-GFq",
        "outputId": "89e3301d-52b8-4e81-a080-914277b5c22b"
      },
      "source": [
        "norm_test_features = np.linalg.norm(test_features['temp'])\n",
        "norm_train_features = np.linalg.norm(train_features['temp'])\n",
        "# norm_test_label = np.linalg.norm(test_label['temp'])\n",
        "norm_train_label = np.linalg.norm(train_label['apples'])\n",
        "\n",
        "\n",
        "normal_array_test_features = test_features['temp']/norm_test_features\n",
        "normal_array_train_features = train_features['temp']/norm_train_features\n",
        "normal_array_train_label = train_label['apples']/norm_train_label\n",
        "\n",
        "print(normal_array_train_features)\n",
        "print(normal_array_test_features)\n",
        "print(normal_array_train_label)"
      ],
      "execution_count": 19,
      "outputs": [
        {
          "output_type": "stream",
          "name": "stdout",
          "text": [
            "0    0.270764\n",
            "1    0.337528\n",
            "2    0.322692\n",
            "3    0.378328\n",
            "4    0.255928\n",
            "5    0.270764\n",
            "6    0.337528\n",
            "7    0.322692\n",
            "8    0.378328\n",
            "9    0.255928\n",
            "Name: temp, dtype: float32\n",
            "10    0.382919\n",
            "11    0.477337\n",
            "12    0.456355\n",
            "13    0.535037\n",
            "14    0.361937\n",
            "Name: temp, dtype: float32\n",
            "0    0.211808\n",
            "1    0.306366\n",
            "2    0.450093\n",
            "3    0.083210\n",
            "4    0.389576\n",
            "5    0.211808\n",
            "6    0.306366\n",
            "7    0.450093\n",
            "8    0.083210\n",
            "9    0.389576\n",
            "Name: apples, dtype: float32\n"
          ]
        }
      ]
    },
    {
      "cell_type": "code",
      "metadata": {
        "colab": {
          "base_uri": "https://localhost:8080/",
          "height": 279
        },
        "id": "MbaR-eaY-I5K",
        "outputId": "fc1bb509-ec2f-415b-e126-fea335dec312"
      },
      "source": [
        "def plot_Apples(x, y):\n",
        "  plt.scatter(train_features['temp'], train_label['apples'], label = 'Data')\n",
        "  plt.plot(x, y, color='g', label = 'Predictions')\n",
        "  plt.xlabel('Temp')\n",
        "  plt.ylabel('Apples')\n",
        "  plt.legend()\n",
        "  \n",
        "plot_Apples(test_features['temp'], y)"
      ],
      "execution_count": 20,
      "outputs": [
        {
          "output_type": "display_data",
          "data": {
            "image/png": "[encoded data removed]",
            "text/plain": [
              "<Figure size 432x288 with 1 Axes>"
            ]
          },
          "metadata": {
            "needs_background": "light"
          }
        }
      ]
    },
    {
      "cell_type": "code",
      "metadata": {
        "id": "nTIyF2Hp-PNK"
      },
      "source": [
        "normalizer = preprocessing.Normalization(axis = -1)"
      ],
      "execution_count": 21,
      "outputs": []
    },
    {
      "cell_type": "code",
      "metadata": {
        "id": "PFob_j3b-V4u"
      },
      "source": [
        "normalizer.adapt(np.array(train_features))"
      ],
      "execution_count": 22,
      "outputs": []
    },
    {
      "cell_type": "code",
      "metadata": {
        "id": "e7atDVoL-X0h"
      },
      "source": [
        "linear_model = tf.keras.Sequential([\n",
        "    normalizer,\n",
        "    layers.Dense(units = 1)\n",
        "])"
      ],
      "execution_count": 23,
      "outputs": []
    },
    {
      "cell_type": "code",
      "metadata": {
        "colab": {
          "base_uri": "https://localhost:8080/"
        },
        "id": "oYpgSpgl-aL-",
        "outputId": "232369ff-3497-4d64-a8b5-55bbcfccc866"
      },
      "source": [
        "linear_model.predict(train_features[:9])"
      ],
      "execution_count": 24,
      "outputs": [
        {
          "output_type": "execute_result",
          "data": {
            "text/plain": [
              "array([[ 0.26518047],\n",
              "       [-0.3787884 ],\n",
              "       [-0.46098807],\n",
              "       [ 3.3897424 ],\n",
              "       [-2.8151462 ],\n",
              "       [ 0.26518047],\n",
              "       [-0.3787884 ],\n",
              "       [-0.46098807],\n",
              "       [ 3.3897424 ]], dtype=float32)"
            ]
          },
          "metadata": {},
          "execution_count": 24
        }
      ]
    },
    {
      "cell_type": "code",
      "metadata": {
        "id": "Tz0tWMfW-cPN"
      },
      "source": [
        "linear_model.compile(\n",
        "    optimizer=tf.optimizers.Adam(learning_rate = 0.1),\n",
        "    loss='mean_absolute_error')"
      ],
      "execution_count": 25,
      "outputs": []
    },
    {
      "cell_type": "code",
      "metadata": {
        "colab": {
          "base_uri": "https://localhost:8080/"
        },
        "id": "Di-1jZ84-eVQ",
        "outputId": "0ee604a0-135e-42af-bcf4-995f128adef0"
      },
      "source": [
        "%%time\n",
        "history = linear_model.fit(\n",
        "    train_features, train_label, \n",
        "    epochs = 1000,\n",
        "    # suppress logging\n",
        "    verbose=0,\n",
        "    # Calculate validation results on 20% of the training data\n",
        "    validation_split = 0.2)"
      ],
      "execution_count": 26,
      "outputs": [
        {
          "output_type": "stream",
          "name": "stdout",
          "text": [
            "CPU times: user 17.2 s, sys: 798 ms, total: 18 s\n",
            "Wall time: 16.9 s\n"
          ]
        }
      ]
    },
    {
      "cell_type": "code",
      "metadata": {
        "colab": {
          "base_uri": "https://localhost:8080/"
        },
        "id": "rYJ_TEKn-gr5",
        "outputId": "1d6f25b2-04da-4956-f354-fd8b3f59dc6e"
      },
      "source": [
        "test_results['linear_model'] = linear_model.evaluate(\n",
        "    test_features, test_label, verbose = 0)\n",
        "\n",
        "test_results['linear_model']"
      ],
      "execution_count": 27,
      "outputs": [
        {
          "output_type": "execute_result",
          "data": {
            "text/plain": [
              "0.8764503598213196"
            ]
          },
          "metadata": {},
          "execution_count": 27
        }
      ]
    },
    {
      "cell_type": "code",
      "metadata": {
        "id": "IJT0OvgI-l2s"
      },
      "source": [
        ""
      ],
      "execution_count": null,
      "outputs": []
    },
    {
      "cell_type": "code",
      "metadata": {
        "id": "8rx3LRjW6vg2"
      },
      "source": [
        ""
      ],
      "execution_count": null,
      "outputs": []
    }
  ]
}