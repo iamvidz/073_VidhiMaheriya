{
  "nbformat": 4,
  "nbformat_minor": 0,
  "metadata": {
    "colab": {
      "name": "lab03_play_or_not.ipynb",
      "provenance": []
    },
    "kernelspec": {
      "name": "python3",
      "display_name": "Python 3"
    },
    "language_info": {
      "name": "python"
    }
  },
  "cells": [
    {
      "cell_type": "code",
      "metadata": {
        "colab": {
          "base_uri": "https://localhost:8080/"
        },
        "id": "YEYnRYxpNVGA",
        "outputId": "3b13e425-e04d-48cc-dcf2-6a0ddc52a8dc"
      },
      "source": [
        "from google.colab import drive\n",
        "drive.mount(\"/content/drive\")"
      ],
      "execution_count": 3,
      "outputs": [
        {
          "output_type": "stream",
          "name": "stdout",
          "text": [
            "Mounted at /content/drive\n"
          ]
        }
      ]
    },
    {
      "cell_type": "code",
      "metadata": {
        "id": "OTPJoXc-PMcD"
      },
      "source": [
        ""
      ],
      "execution_count": null,
      "outputs": []
    },
    {
      "cell_type": "code",
      "metadata": {
        "id": "vTJD9Nq5UcHw"
      },
      "source": [
        "import numpy as np\n",
        "import pandas as pd\n",
        "import matplotlib.pyplot as plt\n",
        "from sklearn import datasets, preprocessing\n",
        "from sklearn.naive_bayes import GaussianNB, MultinomialNB"
      ],
      "execution_count": 4,
      "outputs": []
    },
    {
      "cell_type": "code",
      "metadata": {
        "id": "ujbKvL2lPSmW"
      },
      "source": [
        ""
      ],
      "execution_count": null,
      "outputs": []
    },
    {
      "cell_type": "code",
      "metadata": {
        "colab": {
          "base_uri": "https://localhost:8080/"
        },
        "id": "Rqa79dOLPEZd",
        "outputId": "85cc35ff-1096-4caa-ef6c-058f897b2ed0"
      },
      "source": [
        "# reading data into main_data\n",
        "\n",
        "main_data = pd.read_csv(\"/content/drive/MyDrive/csv/Dataset2.csv\")\n",
        "\n",
        "# labelEncoder Object\n",
        "label_encoder = preprocessing.LabelEncoder()\n",
        "\n",
        "for data in main_data:\n",
        "  print(f\"\\n\\nHeading :- {data}\")\n",
        "  print(list(main_data[data]))\n",
        "  main_data[data] = label_encoder.fit_transform(main_data[data])\n",
        "  print(f\"\\n\\nAfter the tranformation of {data}\")\n",
        "  print(list(main_data[data]))"
      ],
      "execution_count": 5,
      "outputs": [
        {
          "output_type": "stream",
          "name": "stdout",
          "text": [
            "\n",
            "\n",
            "Heading :- Outlook\n",
            "['R', 'R', 'O', 'S', 'S', 'S', 'O', 'R', 'R', 'S', 'R', 'O', 'O', 'S']\n",
            "\n",
            "\n",
            "After the tranformation of Outlook\n",
            "[1, 1, 0, 2, 2, 2, 0, 1, 1, 2, 1, 0, 0, 2]\n",
            "\n",
            "\n",
            "Heading :- Temp\n",
            "['H', 'H', 'H', 'M', 'M', 'M', 'C', 'C', 'C', 'M', 'M', 'M', 'H', 'M']\n",
            "\n",
            "\n",
            "After the tranformation of Temp\n",
            "[1, 1, 1, 2, 2, 2, 0, 0, 0, 2, 2, 2, 1, 2]\n",
            "\n",
            "\n",
            "Heading :- Wind\n",
            "['F', 'T', 'F', 'F', 'F', 'T', 'T', 'F', 'F', 'F', 'T', 'T', 'F', 'T']\n",
            "\n",
            "\n",
            "After the tranformation of Wind\n",
            "[0, 1, 0, 0, 0, 1, 1, 0, 0, 0, 1, 1, 0, 1]\n",
            "\n",
            "\n",
            "Heading :- Humidity\n",
            "['Normal', 'High', 'Normal', 'Normal', 'Normal', 'Low', 'Normal', 'Normal', 'Low', 'High', 'High', 'Low', 'Normal', 'Normal']\n",
            "\n",
            "\n",
            "After the tranformation of Humidity\n",
            "[2, 0, 2, 2, 2, 1, 2, 2, 1, 0, 0, 1, 2, 2]\n",
            "\n",
            "\n",
            "Heading :- Class\n",
            "['N', 'N', 'Y', 'N', 'Y', 'Y', 'Y', 'Y', 'Y', 'Y', 'Y', 'Y', 'Y', 'N']\n",
            "\n",
            "\n",
            "After the tranformation of Class\n",
            "[0, 0, 1, 0, 1, 1, 1, 1, 1, 1, 1, 1, 1, 0]\n"
          ]
        }
      ]
    },
    {
      "cell_type": "code",
      "metadata": {
        "colab": {
          "base_uri": "https://localhost:8080/"
        },
        "id": "surNrv5RPTrK",
        "outputId": "dde5120c-2fc1-4ec1-f7e5-1de2019d714a"
      },
      "source": [
        "# now zip all the features of atmosphere\n",
        "\n",
        "combined_features = tuple(zip(main_data[\"Outlook\"], main_data[\"Temp\"], main_data[\"Wind\"], main_data[\"Humidity\"]))\n",
        "print(\"After combined!\")\n",
        "\n",
        "print(\"Outlook, Temp, Wind, Humidity\\n\\n\")\n",
        "for pair in combined_features:\n",
        "    print(pair)"
      ],
      "execution_count": 6,
      "outputs": [
        {
          "output_type": "stream",
          "name": "stdout",
          "text": [
            "After combined!\n",
            "Outlook, Temp, Wind, Humidity\n",
            "\n",
            "\n",
            "(1, 1, 0, 2)\n",
            "(1, 1, 1, 0)\n",
            "(0, 1, 0, 2)\n",
            "(2, 2, 0, 2)\n",
            "(2, 2, 0, 2)\n",
            "(2, 2, 1, 1)\n",
            "(0, 0, 1, 2)\n",
            "(1, 0, 0, 2)\n",
            "(1, 0, 0, 1)\n",
            "(2, 2, 0, 0)\n",
            "(1, 2, 1, 0)\n",
            "(0, 2, 1, 1)\n",
            "(0, 1, 0, 2)\n",
            "(2, 2, 1, 2)\n"
          ]
        }
      ]
    },
    {
      "cell_type": "code",
      "metadata": {
        "colab": {
          "base_uri": "https://localhost:8080/"
        },
        "id": "A7zTHj9VPXML",
        "outputId": "cf070b54-2171-4940-941e-c826d7bb46fa"
      },
      "source": [
        "# train test division 90% - 10% bcz my Roll No is 54\n",
        "from sklearn.model_selection import train_test_split\n",
        "\n",
        "X_train, X_test, Y_train, Y_test = train_test_split(combined_features, main_data[\"Class\"], test_size = 0.10, random_state = 54)\n",
        "# 48 random state is accepted value by many researcher\n",
        "\n",
        "# create model\n",
        "model = MultinomialNB()\n",
        "model.fit(X_train, Y_train)\n",
        "\n",
        "# Predict Y from X_text\n",
        "Y_predicted = model.predict(X_test)\n",
        "\n",
        "print(Y_predicted)\n"
      ],
      "execution_count": 7,
      "outputs": [
        {
          "output_type": "stream",
          "name": "stdout",
          "text": [
            "[1 1]\n"
          ]
        }
      ]
    },
    {
      "cell_type": "code",
      "metadata": {
        "colab": {
          "base_uri": "https://localhost:8080/"
        },
        "id": "dBKtSqE7PZgq",
        "outputId": "67820dee-9e2a-4b23-dd35-9371b60a750d"
      },
      "source": [
        "from sklearn import metrics\n",
        "\n",
        "print(f\"Accuracy is :- {metrics.accuracy_score(Y_test, Y_predicted)}\")"
      ],
      "execution_count": 8,
      "outputs": [
        {
          "output_type": "stream",
          "name": "stdout",
          "text": [
            "Accuracy is :- 1.0\n"
          ]
        }
      ]
    },
    {
      "cell_type": "code",
      "metadata": {
        "colab": {
          "base_uri": "https://localhost:8080/"
        },
        "id": "pqMlXI8iPbmH",
        "outputId": "a79c861d-2cea-498b-b49f-9986a4fbdd3e"
      },
      "source": [
        "# print precision and recall\n",
        "from sklearn.metrics import precision_score\n",
        "from sklearn.metrics import recall_score\n",
        "\n",
        "\n",
        "precision = precision_score(Y_test, Y_predicted)\n",
        "recall = recall_score(Y_test, Y_predicted)\n",
        "\n",
        "\n",
        "print(f\"precision :- {precision}\")\n",
        "print(f\"recall :- {recall}\")"
      ],
      "execution_count": 9,
      "outputs": [
        {
          "output_type": "stream",
          "name": "stdout",
          "text": [
            "precision :- 1.0\n",
            "recall :- 1.0\n"
          ]
        }
      ]
    },
    {
      "cell_type": "code",
      "metadata": {
        "colab": {
          "base_uri": "https://localhost:8080/"
        },
        "id": "H6CsH0asPe2I",
        "outputId": "3e3a0d03-f0a9-49d5-d7b1-215164be316a"
      },
      "source": [
        "# Excersice\n",
        "# Task1\n",
        "\n",
        "# Temp = \"Hot\" and Weather = \"overcast\"\n",
        "\n",
        "output = model.predict([[0, 1, 1, 2]])\n",
        "print(f\"final prediction :- {output}\")"
      ],
      "execution_count": 10,
      "outputs": [
        {
          "output_type": "stream",
          "name": "stdout",
          "text": [
            "final prediction :- [1]\n"
          ]
        }
      ]
    },
    {
      "cell_type": "code",
      "metadata": {
        "colab": {
          "base_uri": "https://localhost:8080/"
        },
        "id": "Co-zkJUXPhLB",
        "outputId": "f941654b-129c-4c07-e128-8e0a3f7c9d6a"
      },
      "source": [
        "\n",
        "# Temp = \"Mild\" and Weather = \"sunny\"\n",
        "\n",
        "output = model.predict([[2, 2, 1, 2]])\n",
        "print(f\"final prediction :- {output}\")"
      ],
      "execution_count": 11,
      "outputs": [
        {
          "output_type": "stream",
          "name": "stdout",
          "text": [
            "final prediction :- [1]\n"
          ]
        }
      ]
    },
    {
      "cell_type": "code",
      "metadata": {
        "id": "LSuTFtsrPj5k"
      },
      "source": [
        ""
      ],
      "execution_count": null,
      "outputs": []
    },
    {
      "cell_type": "code",
      "metadata": {
        "id": "O1K92rO5PILl"
      },
      "source": [
        ""
      ],
      "execution_count": null,
      "outputs": []
    }
  ]
}