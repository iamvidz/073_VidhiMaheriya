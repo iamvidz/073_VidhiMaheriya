{
  "nbformat": 4,
  "nbformat_minor": 0,
  "metadata": {
    "colab": {
      "name": "exercise1.ipynb",
      "provenance": []
    },
    "kernelspec": {
      "name": "python3",
      "display_name": "Python 3"
    },
    "language_info": {
      "name": "python"
    }
  },
  "cells": [
    {
      "cell_type": "markdown",
      "metadata": {
        "id": "xxjUQ7aY72_w"
      },
      "source": [
        "Write a python program to perform K-Means clustering on Breast Cancer Data"
      ]
    },
    {
      "cell_type": "code",
      "metadata": {
        "id": "6-wKHxpk75Tm"
      },
      "source": [
        "import numpy as np \n",
        "import pandas as pd \n",
        "from sklearn import datasets\n",
        "from sklearn.cluster import KMeans\n",
        "from sklearn.metrics import accuracy_score, confusion_matrix\n",
        "import matplotlib.pyplot as plt"
      ],
      "execution_count": 1,
      "outputs": []
    },
    {
      "cell_type": "code",
      "metadata": {
        "colab": {
          "base_uri": "https://localhost:8080/"
        },
        "id": "4-MgiL9m8AkI",
        "outputId": "9d49641e-7e22-4b91-ee49-07c5a51cf9db"
      },
      "source": [
        "dataset=datasets.load_breast_cancer()\n",
        "print(dataset.data.shape)\n",
        "print(dataset.target.shape)\n",
        "print(dataset.feature_names)\n",
        "print(dataset.target_names)\n"
      ],
      "execution_count": 14,
      "outputs": [
        {
          "output_type": "stream",
          "name": "stdout",
          "text": [
            "(569, 30)\n",
            "(569,)\n",
            "['mean radius' 'mean texture' 'mean perimeter' 'mean area'\n",
            " 'mean smoothness' 'mean compactness' 'mean concavity'\n",
            " 'mean concave points' 'mean symmetry' 'mean fractal dimension'\n",
            " 'radius error' 'texture error' 'perimeter error' 'area error'\n",
            " 'smoothness error' 'compactness error' 'concavity error'\n",
            " 'concave points error' 'symmetry error' 'fractal dimension error'\n",
            " 'worst radius' 'worst texture' 'worst perimeter' 'worst area'\n",
            " 'worst smoothness' 'worst compactness' 'worst concavity'\n",
            " 'worst concave points' 'worst symmetry' 'worst fractal dimension']\n",
            "['malignant' 'benign']\n"
          ]
        }
      ]
    },
    {
      "cell_type": "code",
      "metadata": {
        "colab": {
          "base_uri": "https://localhost:8080/",
          "height": 279
        },
        "id": "7gEFv9Ag8KIK",
        "outputId": "80df4283-1ab6-4ff3-f6b0-4f25ce30dd67"
      },
      "source": [
        "# 0 for benign and 1 for malignant\n",
        "\n",
        "plt.scatter(dataset.data[:, 0], dataset.target, c='pink', marker='*')\n",
        "plt.xlabel('Features')\n",
        "plt.ylabel('Cancer Type')\n",
        "plt.show()"
      ],
      "execution_count": 19,
      "outputs": [
        {
          "output_type": "display_data",
          "data": {
            "image/png": "[encoded data removed]",
            "text/plain": [
              "<Figure size 432x288 with 1 Axes>"
            ]
          },
          "metadata": {
            "needs_background": "light"
          }
        }
      ]
    },
    {
      "cell_type": "code",
      "metadata": {
        "colab": {
          "base_uri": "https://localhost:8080/"
        },
        "id": "BmH0qKNY8MvD",
        "outputId": "17a0e651-138b-4f62-eff8-1415b6dd39f5"
      },
      "source": [
        "kmeans = KMeans(n_clusters=3, random_state=73)\n",
        "prediction = kmeans.fit_predict(dataset.data)\n",
        "print(prediction)"
      ],
      "execution_count": 20,
      "outputs": [
        {
          "output_type": "stream",
          "name": "stdout",
          "text": [
            "[0 0 0 1 0 1 0 1 1 1 0 0 0 1 1 1 1 0 2 1 1 1 1 2 0 0 1 0 0 0 0 1 0 0 0 0 1\n",
            " 1 1 1 1 1 0 1 1 0 1 1 1 1 1 1 1 0 1 1 0 1 1 1 1 1 1 1 1 1 1 1 1 1 0 1 0 1\n",
            " 1 0 1 0 0 1 1 1 2 0 1 0 1 0 1 1 1 1 1 1 1 0 1 1 1 1 1 1 1 1 1 1 1 1 2 1 1\n",
            " 1 1 1 1 1 1 1 0 0 1 0 2 1 1 1 1 0 1 0 1 0 0 1 0 1 1 1 1 1 1 0 1 1 1 1 1 1\n",
            " 1 1 1 1 1 1 1 1 0 0 1 1 1 0 0 1 2 1 1 0 0 1 1 1 1 1 1 1 1 1 1 1 2 0 0 1 1\n",
            " 1 0 1 1 1 1 1 1 1 1 1 1 0 0 1 1 0 0 1 1 1 1 0 1 1 0 1 2 0 1 1 1 1 0 2 1 1\n",
            " 1 1 1 1 1 1 1 1 0 1 1 0 1 1 2 0 1 0 1 1 1 1 0 1 1 1 1 1 0 1 0 0 0 1 0 1 0\n",
            " 1 0 0 0 1 0 2 1 1 1 1 1 1 2 1 0 1 1 0 1 1 0 1 0 1 1 1 1 1 1 1 1 1 1 1 1 1\n",
            " 1 1 1 1 0 1 0 1 1 1 1 1 1 1 1 1 1 1 1 1 1 0 1 1 1 0 1 0 1 1 1 1 0 1 1 1 1\n",
            " 1 1 0 1 0 1 2 1 1 1 0 1 1 1 1 1 1 1 1 2 1 1 1 1 1 1 1 1 1 1 1 1 0 0 1 2 2\n",
            " 0 1 0 0 1 1 1 1 1 1 1 1 1 1 1 1 1 1 1 0 1 1 0 0 1 1 1 1 1 1 0 1 1 1 1 1 1\n",
            " 1 0 1 1 1 1 1 1 1 1 0 1 1 1 1 1 1 1 1 1 1 1 1 1 1 0 0 1 1 1 1 1 1 1 0 1 1\n",
            " 0 1 0 1 1 0 1 0 1 1 1 1 1 1 1 1 0 2 1 1 1 1 1 1 0 1 1 1 1 1 1 1 1 1 1 1 1\n",
            " 1 1 1 1 1 1 0 1 0 1 0 0 1 1 1 1 1 0 0 1 1 1 2 1 1 1 1 1 1 1 1 1 1 1 1 0 0\n",
            " 1 1 1 2 1 1 1 1 1 1 1 1 1 1 1 0 1 0 1 1 1 1 1 1 1 1 1 1 1 1 1 1 1 1 1 1 1\n",
            " 1 1 1 1 1 1 1 1 0 0 0 0 0 1]\n"
          ]
        }
      ]
    },
    {
      "cell_type": "code",
      "metadata": {
        "colab": {
          "base_uri": "https://localhost:8080/"
        },
        "id": "_TrNWMUG8RCf",
        "outputId": "819f572a-6c47-44ed-b806-b6a7d0a2bb78"
      },
      "source": [
        "kmeans.cluster_centers_.shape\n",
        "print(kmeans.cluster_centers_)"
      ],
      "execution_count": 21,
      "outputs": [
        {
          "output_type": "stream",
          "name": "stdout",
          "text": [
            "[[1.85285124e+01 2.15790909e+01 1.22283471e+02 1.07481240e+03\n",
            "  1.00261240e-01 1.41826612e-01 1.61977355e-01 9.20814050e-02\n",
            "  1.91676860e-01 6.06204959e-02 6.49142149e-01 1.21641983e+00\n",
            "  4.56371901e+00 7.68210744e+01 6.61174380e-03 3.13276529e-02\n",
            "  4.16239669e-02 1.55374463e-02 2.01668595e-02 3.96714050e-03\n",
            "  2.23823967e+01 2.87747107e+01 1.49064463e+02 1.54647107e+03\n",
            "  1.39227107e-01 3.46117851e-01 4.31357851e-01 1.82432645e-01\n",
            "  3.15462810e-01 8.62268595e-02]\n",
            " [1.24751725e+01 1.84901166e+01 8.05764103e+01 4.88859207e+02\n",
            "  9.49148252e-02 9.07750117e-02 6.15064119e-02 3.29390303e-02\n",
            "  1.77986946e-01 6.35734266e-02 3.01556410e-01 1.21532704e+00\n",
            "  2.13489441e+00 2.33540979e+01 7.15913287e-03 2.33434848e-02\n",
            "  2.84384956e-02 1.05576713e-02 2.06707646e-02 3.74588648e-03\n",
            "  1.39398578e+01 2.45990443e+01 9.12271096e+01 6.09272261e+02\n",
            "  1.30029254e-01 2.22372145e-01 2.16939503e-01 9.04745711e-02\n",
            "  2.82924942e-01 8.33942191e-02]\n",
            " [2.34015789e+01 2.27621053e+01 1.56147368e+02 1.72942105e+03\n",
            "  1.04154211e-01 1.71922105e-01 2.39015789e-01 1.34857895e-01\n",
            "  1.85884211e-01 5.91452632e-02 1.19100000e+00 1.25407895e+00\n",
            "  8.56357895e+00 1.91449474e+02 7.10673684e-03 3.64242105e-02\n",
            "  4.79426316e-02 1.59331579e-02 2.00326316e-02 3.80478947e-03\n",
            "  2.99315789e+01 3.02952632e+01 2.03073684e+02 2.76584211e+03\n",
            "  1.41510526e-01 3.89415789e-01 5.05994737e-01 2.27526316e-01\n",
            "  2.89852632e-01 8.18736842e-02]]\n"
          ]
        }
      ]
    },
    {
      "cell_type": "code",
      "metadata": {
        "colab": {
          "base_uri": "https://localhost:8080/",
          "height": 281
        },
        "id": "KfO-r89M8TeW",
        "outputId": "6ab32c49-a3d4-4127-a244-8f0753bb6b93"
      },
      "source": [
        "plt.scatter(dataset.data[:, 0], dataset.target, c='green', marker='*')\n",
        "plt.scatter(kmeans.cluster_centers_[:, 0], kmeans.cluster_centers_[:, 1], c='red', marker='+')\n",
        "plt.title('Data points and cluster centroids')\n",
        "plt.show()"
      ],
      "execution_count": 23,
      "outputs": [
        {
          "output_type": "display_data",
          "data": {
            "image/png": "[encoded data removed]",
            "text/plain": [
              "<Figure size 432x288 with 1 Axes>"
            ]
          },
          "metadata": {
            "needs_background": "light"
          }
        }
      ]
    },
    {
      "cell_type": "code",
      "metadata": {
        "id": "eYKCfb-s8Vb3"
      },
      "source": [
        "from scipy.stats import mode\n",
        "labels = np.zeros_like(prediction)\n",
        "for i in range(10):\n",
        "  mask = (prediction == i)\n",
        "  labels[mask] = mode(dataset.target[mask])[0]\n"
      ],
      "execution_count": 24,
      "outputs": []
    },
    {
      "cell_type": "code",
      "metadata": {
        "colab": {
          "base_uri": "https://localhost:8080/",
          "height": 296
        },
        "id": "ZyD6paEN8YXg",
        "outputId": "739c61e0-c189-402d-860c-5f6c51178514"
      },
      "source": [
        "import seaborn as sns\n",
        "\n",
        "mat = confusion_matrix(dataset.target, labels)\n",
        "ax = sns.heatmap(mat.T, square=True, annot=True, cbar=False, xticklabels=dataset.target_names, yticklabels=dataset.target_names)\n",
        "plt.xlabel('true label')\n",
        "plt.ylabel('predicted label')"
      ],
      "execution_count": 25,
      "outputs": [
        {
          "output_type": "execute_result",
          "data": {
            "text/plain": [
              "Text(91.68, 0.5, 'predicted label')"
            ]
          },
          "metadata": {},
          "execution_count": 25
        },
        {
          "output_type": "display_data",
          "data": {
            "image/png": "[encoded data removed]",
            "text/plain": [
              "<Figure size 432x288 with 1 Axes>"
            ]
          },
          "metadata": {
            "needs_background": "light"
          }
        }
      ]
    },
    {
      "cell_type": "code",
      "metadata": {
        "colab": {
          "base_uri": "https://localhost:8080/"
        },
        "id": "wjHBCriA8bAm",
        "outputId": "79d11e61-fc73-4c27-9a9c-36087857fb63"
      },
      "source": [
        "accuracy_score(dataset.target, labels)"
      ],
      "execution_count": 26,
      "outputs": [
        {
          "output_type": "execute_result",
          "data": {
            "text/plain": [
              "0.8664323374340949"
            ]
          },
          "metadata": {},
          "execution_count": 26
        }
      ]
    },
    {
      "cell_type": "code",
      "metadata": {
        "id": "nEruRZo17uc2"
      },
      "source": [
        ""
      ],
      "execution_count": null,
      "outputs": []
    }
  ]
}